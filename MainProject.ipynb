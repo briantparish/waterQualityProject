#Dependencies

import pandas as pd
import numpy as np
import matplotlib.pyplot as plt

#Import the CSV files

carbon = "Carbon.csv"
carbon_df = pd.read_csv(carbon)

#Show the CSV file
carbon_df

carbon_df.count()

#Only show the columns that you need, and clean up the unknown information

carbon_cleanup = carbon_df [["site number", "site location", "Cluster", "date", "TOC (mg/L)", "DOC (mg/L)", "UVA (cm-1)", "suva (L/mg-m)"]]
carbon_cleanup = carbon_cleanup.dropna()


#Show the new count of rows we are working with

carbon_cleanup.count()

Create a scatter plot showing the TOC levels

carbon_x = carbon_cleanup['date'];
carbon_y = carbon_cleanup['TOC (mg/L)']

plt.figure(figsize=(20,18))

plt.title("TOC Levels By Year")
plt.xlabel('Year');
plt.ylabel('TOC (ml/L)')

plt.scatter (carbon_x,carbon_y)

#Create a scatter plot showing the DOC levels

doc_x = carbon_cleanup['date'];
doc_y = carbon_cleanup['DOC (mg/L)']

plt.figure(figsize=(20,18))

plt.title("DOC Levels By Year")
plt.xlabel('Year');
plt.ylabel('DOC (ml/L)')

plt.scatter (doc_x,doc_y)

#Create a scatter plot showing the UVA levels

uva_x = carbon_cleanup['date'];
uva_y = carbon_cleanup['UVA (cm-1)']

plt.figure(figsize=(20,18))

plt.title("UVA Levels By Year")
plt.xlabel('Year');
plt.ylabel('UVA (cm-1)')

plt.scatter (uva_x,uva_y)

#This scatter plot shows all of the levels for each resevoir and canal per collection time.
#The amount of carbon that shows per centimeter of UV light stays pretty consistent.

Create a scatter plot showing the SUVA levels

suva_x = carbon_cleanup['date'];
suva_y = carbon_cleanup['suva (L/mg-m)']

plt.figure(figsize=(20,18))

plt.title("SUVA Levels By Year")
plt.xlabel('Year')
plt.ylabel('SUVA (L/mg-m)')

plt.scatter (suva_x, suva_y)

#plt.savefig('suva levels_1')

#This scatter plot shows all of the levels for each resevoir and canal per collection time.
#A high level of SUVA means that there is a lot of humic matter in the water, which can create DBPs (Disinfection By Product).
#As shown, there is quite a bit of collective data that goes over the 2 L/mg-m limit.

carbon_df

#Cleaning up the data to show the information without the TOC Levels

second_cleanup = carbon_df [["site number", "site location", "Cluster", "date", "DOC (mg/L)", "UVA (cm-1)", "suva (L/mg-m)"]]
second_cleanup = second_cleanup.dropna()

doc_x = second_cleanup['date'];
doc_y = second_cleanup['DOC (mg/L)']

plt.figure(figsize=(20,18))

plt.title("DOC Levels By Year")
plt.xlabel('Year');
plt.ylabel('DOC (ml/L)')

plt.scatter (doc_x,doc_y)

#plt.savefig('doc levels_2')

#Creating a scatter plot with the UVA data

uva_x = second_cleanup['date'];
uva_y = second_cleanup['UVA (cm-1)']

plt.figure(figsize=(20,18))

plt.title("UVA Levels By Year")
plt.xlabel('Year');
plt.ylabel('UVA (cm-1)')

plt.scatter (uva_x,uva_y)

#plt.savefig('uva levels_2')

#Creating a scatter plot with the SUVA data

suva_x = second_cleanup['date'];
suva_y = second_cleanup['suva (L/mg-m)']

plt.figure(figsize=(20,18))

plt.title("SUVA Levels By Year")
plt.xlabel('Year')
plt.ylabel('SUVA (L/mg-m)')

plt.scatter (suva_x, suva_y)

#plt.savefig('suva levels_2')
