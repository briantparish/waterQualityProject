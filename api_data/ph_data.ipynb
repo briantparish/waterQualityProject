{
 "cells": [
  {
   "cell_type": "code",
   "execution_count": 1,
   "metadata": {},
   "outputs": [],
   "source": [
    "import pandas as pd"
   ]
  },
  {
   "cell_type": "code",
   "execution_count": 26,
   "metadata": {},
   "outputs": [
    {
     "data": {
      "text/html": [
       "<div>\n",
       "<style scoped>\n",
       "    .dataframe tbody tr th:only-of-type {\n",
       "        vertical-align: middle;\n",
       "    }\n",
       "\n",
       "    .dataframe tbody tr th {\n",
       "        vertical-align: top;\n",
       "    }\n",
       "\n",
       "    .dataframe thead th {\n",
       "        text-align: right;\n",
       "    }\n",
       "</style>\n",
       "<table border=\"1\" class=\"dataframe\">\n",
       "  <thead>\n",
       "    <tr style=\"text-align: right;\">\n",
       "      <th></th>\n",
       "      <th>ActivityStartDate</th>\n",
       "      <th>CharacteristicName</th>\n",
       "      <th>ResultMeasureValue</th>\n",
       "    </tr>\n",
       "  </thead>\n",
       "  <tbody>\n",
       "    <tr>\n",
       "      <td>20</td>\n",
       "      <td>1982-09-08</td>\n",
       "      <td>pH</td>\n",
       "      <td>7.70</td>\n",
       "    </tr>\n",
       "    <tr>\n",
       "      <td>439</td>\n",
       "      <td>1982-09-08</td>\n",
       "      <td>pH</td>\n",
       "      <td>8.60</td>\n",
       "    </tr>\n",
       "    <tr>\n",
       "      <td>23</td>\n",
       "      <td>1982-09-08</td>\n",
       "      <td>pH</td>\n",
       "      <td>7.80</td>\n",
       "    </tr>\n",
       "    <tr>\n",
       "      <td>435</td>\n",
       "      <td>1982-09-08</td>\n",
       "      <td>pH</td>\n",
       "      <td>8.60</td>\n",
       "    </tr>\n",
       "    <tr>\n",
       "      <td>437</td>\n",
       "      <td>1990-09-10</td>\n",
       "      <td>pH</td>\n",
       "      <td>7.90</td>\n",
       "    </tr>\n",
       "    <tr>\n",
       "      <td>...</td>\n",
       "      <td>...</td>\n",
       "      <td>...</td>\n",
       "      <td>...</td>\n",
       "    </tr>\n",
       "    <tr>\n",
       "      <td>4524</td>\n",
       "      <td>2019-11-18</td>\n",
       "      <td>pH</td>\n",
       "      <td>9.34</td>\n",
       "    </tr>\n",
       "    <tr>\n",
       "      <td>10696</td>\n",
       "      <td>2019-11-18</td>\n",
       "      <td>pH</td>\n",
       "      <td>9.34</td>\n",
       "    </tr>\n",
       "    <tr>\n",
       "      <td>4844</td>\n",
       "      <td>2019-11-18</td>\n",
       "      <td>pH</td>\n",
       "      <td>9.34</td>\n",
       "    </tr>\n",
       "    <tr>\n",
       "      <td>3534</td>\n",
       "      <td>2019-11-18</td>\n",
       "      <td>pH</td>\n",
       "      <td>9.29</td>\n",
       "    </tr>\n",
       "    <tr>\n",
       "      <td>5634</td>\n",
       "      <td>2019-11-18</td>\n",
       "      <td>pH</td>\n",
       "      <td>9.84</td>\n",
       "    </tr>\n",
       "  </tbody>\n",
       "</table>\n",
       "<p>5569 rows × 3 columns</p>\n",
       "</div>"
      ],
      "text/plain": [
       "      ActivityStartDate CharacteristicName  ResultMeasureValue\n",
       "20           1982-09-08                 pH                7.70\n",
       "439          1982-09-08                 pH                8.60\n",
       "23           1982-09-08                 pH                7.80\n",
       "435          1982-09-08                 pH                8.60\n",
       "437          1990-09-10                 pH                7.90\n",
       "...                 ...                ...                 ...\n",
       "4524         2019-11-18                 pH                9.34\n",
       "10696        2019-11-18                 pH                9.34\n",
       "4844         2019-11-18                 pH                9.34\n",
       "3534         2019-11-18                 pH                9.29\n",
       "5634         2019-11-18                 pH                9.84\n",
       "\n",
       "[5569 rows x 3 columns]"
      ]
     },
     "execution_count": 26,
     "metadata": {},
     "output_type": "execute_result"
    },
    {
     "data": {
      "image/png": "[encoded data removed]",
      "text/plain": [
       "<Figure size 432x288 with 1 Axes>"
      ]
     },
     "metadata": {
      "needs_background": "light"
     },
     "output_type": "display_data"
    }
   ],
   "source": [
    "inputfile = \"arizona_water.csv\"\n",
    "water_df = pd.read_csv(inputfile)\n",
    "water_df[[\"ActivityStartDate\", \"CharacteristicName\", \"ResultMeasureValue\"]]\n",
    "ph_df = water_df.loc[water_df[\"CharacteristicName\"] == \"pH\"]\n",
    "ph_df = ph_df[[\"ActivityStartDate\",\"CharacteristicName\",\"ResultMeasureValue\" ]]\n",
    "ph_df = ph_df.sort_values(by = \"ActivityStartDate\", ascending = True)\n",
    "ph_df = ph_df.drop(ph_df[(ph_df.ResultMeasureValue > 14)].index)\n",
    "lines = ph_df.plot.line(x=\"ActivityStartDate\", y='ResultMeasureValue')\n",
    "ph_df"
   ]
  },
  {
   "cell_type": "code",
   "execution_count": null,
   "metadata": {},
   "outputs": [],
   "source": []
  }
 ],
 "metadata": {
  "kernelspec": {
   "display_name": "Python 3",
   "language": "python",
   "name": "python3"
  },
  "language_info": {
   "codemirror_mode": {
    "name": "ipython",
    "version": 3
   },
   "file_extension": ".py",
   "mimetype": "text/x-python",
   "name": "python",
   "nbconvert_exporter": "python",
   "pygments_lexer": "ipython3",
   "version": "3.7.4"
  }
 },
 "nbformat": 4,
 "nbformat_minor": 2
}
