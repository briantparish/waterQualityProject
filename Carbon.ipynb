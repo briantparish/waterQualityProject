{
 "cells": [
  {
   "cell_type": "code",
   "execution_count": 1,
   "metadata": {},
   "outputs": [],
   "source": [
    "import pandas as pd\n",
    "import numpy as np\n",
    "import matplotlib.pyplot as plt"
   ]
  },
  {
   "cell_type": "code",
   "execution_count": 2,
   "metadata": {},
   "outputs": [],
   "source": [
    "#Import the CSV files\n",
    "\n",
    "carbon = \"Carbon.csv\"\n",
    "carbon_df = pd.read_csv(carbon)"
   ]
  },
  {
   "cell_type": "code",
   "execution_count": 3,
   "metadata": {},
   "outputs": [
    {
     "data": {
      "text/html": [
       "<div>\n",
       "<style scoped>\n",
       "    .dataframe tbody tr th:only-of-type {\n",
       "        vertical-align: middle;\n",
       "    }\n",
       "\n",
       "    .dataframe tbody tr th {\n",
       "        vertical-align: top;\n",
       "    }\n",
       "\n",
       "    .dataframe thead th {\n",
       "        text-align: right;\n",
       "    }\n",
       "</style>\n",
       "<table border=\"1\" class=\"dataframe\">\n",
       "  <thead>\n",
       "    <tr style=\"text-align: right;\">\n",
       "      <th></th>\n",
       "      <th>site number</th>\n",
       "      <th>site location</th>\n",
       "      <th>Cluster</th>\n",
       "      <th>site acronym</th>\n",
       "      <th>date</th>\n",
       "      <th>sample type</th>\n",
       "      <th>TOC (mg/L)</th>\n",
       "      <th>DOC (mg/L)</th>\n",
       "      <th>UVA (cm-1)</th>\n",
       "      <th>suva (L/mg-m)</th>\n",
       "      <th>peak int</th>\n",
       "      <th>peak int WL</th>\n",
       "      <th>int at 450</th>\n",
       "      <th>int at 460</th>\n",
       "      <th>int at 500</th>\n",
       "      <th>FI (450/500)</th>\n",
       "      <th>docm comments</th>\n",
       "    </tr>\n",
       "  </thead>\n",
       "  <tbody>\n",
       "    <tr>\n",
       "      <td>0</td>\n",
       "      <td>R5</td>\n",
       "      <td>Verde River btwn Horseshoe and Bartlett</td>\n",
       "      <td>verde</td>\n",
       "      <td>verde abv bartlett</td>\n",
       "      <td>1999</td>\n",
       "      <td>NaN</td>\n",
       "      <td>2.750</td>\n",
       "      <td>2.777</td>\n",
       "      <td>0.0793</td>\n",
       "      <td>0.028556</td>\n",
       "      <td>92.67</td>\n",
       "      <td>446.36</td>\n",
       "      <td>92.45</td>\n",
       "      <td>87.86</td>\n",
       "      <td>52.34</td>\n",
       "      <td>1.766336</td>\n",
       "      <td>NaN</td>\n",
       "    </tr>\n",
       "    <tr>\n",
       "      <td>1</td>\n",
       "      <td>R6A</td>\n",
       "      <td>Bartlett Reservoir near outlet</td>\n",
       "      <td>verde</td>\n",
       "      <td>bartlett-epi</td>\n",
       "      <td>1999</td>\n",
       "      <td>NaN</td>\n",
       "      <td>1.934</td>\n",
       "      <td>1.845</td>\n",
       "      <td>0.0406</td>\n",
       "      <td>0.022005</td>\n",
       "      <td>48.65</td>\n",
       "      <td>448.62</td>\n",
       "      <td>48.23</td>\n",
       "      <td>45.52</td>\n",
       "      <td>27.28</td>\n",
       "      <td>1.767962</td>\n",
       "      <td>NaN</td>\n",
       "    </tr>\n",
       "    <tr>\n",
       "      <td>2</td>\n",
       "      <td>R6B</td>\n",
       "      <td>Bartlett Reservoir near outlet</td>\n",
       "      <td>verde</td>\n",
       "      <td>bartlett-hypo</td>\n",
       "      <td>1999</td>\n",
       "      <td>NaN</td>\n",
       "      <td>1.735</td>\n",
       "      <td>1.614</td>\n",
       "      <td>0.0412</td>\n",
       "      <td>0.025527</td>\n",
       "      <td>51.89</td>\n",
       "      <td>448.74</td>\n",
       "      <td>51.38</td>\n",
       "      <td>48.71</td>\n",
       "      <td>29.00</td>\n",
       "      <td>1.771724</td>\n",
       "      <td>NaN</td>\n",
       "    </tr>\n",
       "    <tr>\n",
       "      <td>3</td>\n",
       "      <td>R7</td>\n",
       "      <td>Verde River below Bartlett Reservoir</td>\n",
       "      <td>verde</td>\n",
       "      <td>verde blw barlett</td>\n",
       "      <td>1999</td>\n",
       "      <td>NaN</td>\n",
       "      <td>1.775</td>\n",
       "      <td>1.626</td>\n",
       "      <td>0.0373</td>\n",
       "      <td>0.022940</td>\n",
       "      <td>47.95</td>\n",
       "      <td>447.02</td>\n",
       "      <td>47.52</td>\n",
       "      <td>44.38</td>\n",
       "      <td>26.25</td>\n",
       "      <td>1.810286</td>\n",
       "      <td>NaN</td>\n",
       "    </tr>\n",
       "    <tr>\n",
       "      <td>4</td>\n",
       "      <td>R10</td>\n",
       "      <td>Salt River below Saguaro (Blue Point Bridge)</td>\n",
       "      <td>salt</td>\n",
       "      <td>salt blw saguaro</td>\n",
       "      <td>1999</td>\n",
       "      <td>NaN</td>\n",
       "      <td>2.943</td>\n",
       "      <td>2.711</td>\n",
       "      <td>0.0549</td>\n",
       "      <td>0.020251</td>\n",
       "      <td>62.98</td>\n",
       "      <td>446.30</td>\n",
       "      <td>62.62</td>\n",
       "      <td>58.61</td>\n",
       "      <td>34.44</td>\n",
       "      <td>1.818235</td>\n",
       "      <td>NaN</td>\n",
       "    </tr>\n",
       "    <tr>\n",
       "      <td>...</td>\n",
       "      <td>...</td>\n",
       "      <td>...</td>\n",
       "      <td>...</td>\n",
       "      <td>...</td>\n",
       "      <td>...</td>\n",
       "      <td>...</td>\n",
       "      <td>...</td>\n",
       "      <td>...</td>\n",
       "      <td>...</td>\n",
       "      <td>...</td>\n",
       "      <td>...</td>\n",
       "      <td>...</td>\n",
       "      <td>...</td>\n",
       "      <td>...</td>\n",
       "      <td>...</td>\n",
       "      <td>...</td>\n",
       "      <td>...</td>\n",
       "    </tr>\n",
       "    <tr>\n",
       "      <td>9880</td>\n",
       "      <td>SPT OUT</td>\n",
       "      <td>Tempe's South Plant treated water</td>\n",
       "      <td>tempe</td>\n",
       "      <td>STP Out</td>\n",
       "      <td>2016</td>\n",
       "      <td>NaN</td>\n",
       "      <td>NaN</td>\n",
       "      <td>NaN</td>\n",
       "      <td>NaN</td>\n",
       "      <td>NaN</td>\n",
       "      <td>NaN</td>\n",
       "      <td>NaN</td>\n",
       "      <td>NaN</td>\n",
       "      <td>NaN</td>\n",
       "      <td>NaN</td>\n",
       "      <td>NaN</td>\n",
       "      <td>NaN</td>\n",
       "    </tr>\n",
       "    <tr>\n",
       "      <td>9881</td>\n",
       "      <td>SRNR</td>\n",
       "      <td>Salt River near Roosevelt</td>\n",
       "      <td>salt</td>\n",
       "      <td>SRNR</td>\n",
       "      <td>2016</td>\n",
       "      <td>NaN</td>\n",
       "      <td>NaN</td>\n",
       "      <td>NaN</td>\n",
       "      <td>NaN</td>\n",
       "      <td>NaN</td>\n",
       "      <td>NaN</td>\n",
       "      <td>NaN</td>\n",
       "      <td>NaN</td>\n",
       "      <td>NaN</td>\n",
       "      <td>NaN</td>\n",
       "      <td>NaN</td>\n",
       "      <td>NaN</td>\n",
       "    </tr>\n",
       "    <tr>\n",
       "      <td>9882</td>\n",
       "      <td>UH IN</td>\n",
       "      <td>Union Hills Inlet</td>\n",
       "      <td>cap</td>\n",
       "      <td>Union Hills Inlet</td>\n",
       "      <td>2016</td>\n",
       "      <td>NaN</td>\n",
       "      <td>NaN</td>\n",
       "      <td>NaN</td>\n",
       "      <td>0.0480</td>\n",
       "      <td>NaN</td>\n",
       "      <td>NaN</td>\n",
       "      <td>NaN</td>\n",
       "      <td>NaN</td>\n",
       "      <td>NaN</td>\n",
       "      <td>NaN</td>\n",
       "      <td>NaN</td>\n",
       "      <td>NaN</td>\n",
       "    </tr>\n",
       "    <tr>\n",
       "      <td>9883</td>\n",
       "      <td>UH IN</td>\n",
       "      <td>Union Hills Inlet</td>\n",
       "      <td>cap</td>\n",
       "      <td>Union Hills Inlet</td>\n",
       "      <td>2016</td>\n",
       "      <td>NaN</td>\n",
       "      <td>NaN</td>\n",
       "      <td>NaN</td>\n",
       "      <td>0.0480</td>\n",
       "      <td>NaN</td>\n",
       "      <td>NaN</td>\n",
       "      <td>NaN</td>\n",
       "      <td>NaN</td>\n",
       "      <td>NaN</td>\n",
       "      <td>NaN</td>\n",
       "      <td>NaN</td>\n",
       "      <td>NaN</td>\n",
       "    </tr>\n",
       "    <tr>\n",
       "      <td>9884</td>\n",
       "      <td>UH OUT</td>\n",
       "      <td>Union Hills Treated Water</td>\n",
       "      <td>cap</td>\n",
       "      <td>Union Hills Outlet</td>\n",
       "      <td>2016</td>\n",
       "      <td>NaN</td>\n",
       "      <td>NaN</td>\n",
       "      <td>NaN</td>\n",
       "      <td>0.0300</td>\n",
       "      <td>NaN</td>\n",
       "      <td>NaN</td>\n",
       "      <td>NaN</td>\n",
       "      <td>NaN</td>\n",
       "      <td>NaN</td>\n",
       "      <td>NaN</td>\n",
       "      <td>NaN</td>\n",
       "      <td>NaN</td>\n",
       "    </tr>\n",
       "  </tbody>\n",
       "</table>\n",
       "<p>9885 rows × 17 columns</p>\n",
       "</div>"
      ],
      "text/plain": [
       "     site number                                 site location Cluster  \\\n",
       "0             R5       Verde River btwn Horseshoe and Bartlett   verde   \n",
       "1            R6A                Bartlett Reservoir near outlet   verde   \n",
       "2            R6B                Bartlett Reservoir near outlet   verde   \n",
       "3             R7          Verde River below Bartlett Reservoir   verde   \n",
       "4            R10  Salt River below Saguaro (Blue Point Bridge)    salt   \n",
       "...          ...                                           ...     ...   \n",
       "9880     SPT OUT             Tempe's South Plant treated water   tempe   \n",
       "9881        SRNR                     Salt River near Roosevelt    salt   \n",
       "9882       UH IN                             Union Hills Inlet     cap   \n",
       "9883       UH IN                             Union Hills Inlet     cap   \n",
       "9884      UH OUT                     Union Hills Treated Water     cap   \n",
       "\n",
       "            site acronym  date sample type  TOC (mg/L)  DOC (mg/L)  \\\n",
       "0     verde abv bartlett  1999         NaN       2.750       2.777   \n",
       "1           bartlett-epi  1999         NaN       1.934       1.845   \n",
       "2          bartlett-hypo  1999         NaN       1.735       1.614   \n",
       "3      verde blw barlett  1999         NaN       1.775       1.626   \n",
       "4       salt blw saguaro  1999         NaN       2.943       2.711   \n",
       "...                  ...   ...         ...         ...         ...   \n",
       "9880             STP Out  2016         NaN         NaN         NaN   \n",
       "9881                SRNR  2016         NaN         NaN         NaN   \n",
       "9882   Union Hills Inlet  2016         NaN         NaN         NaN   \n",
       "9883   Union Hills Inlet  2016         NaN         NaN         NaN   \n",
       "9884  Union Hills Outlet  2016         NaN         NaN         NaN   \n",
       "\n",
       "      UVA (cm-1)  suva (L/mg-m)  peak int  peak int WL  int at 450  \\\n",
       "0         0.0793       0.028556     92.67       446.36       92.45   \n",
       "1         0.0406       0.022005     48.65       448.62       48.23   \n",
       "2         0.0412       0.025527     51.89       448.74       51.38   \n",
       "3         0.0373       0.022940     47.95       447.02       47.52   \n",
       "4         0.0549       0.020251     62.98       446.30       62.62   \n",
       "...          ...            ...       ...          ...         ...   \n",
       "9880         NaN            NaN       NaN          NaN         NaN   \n",
       "9881         NaN            NaN       NaN          NaN         NaN   \n",
       "9882      0.0480            NaN       NaN          NaN         NaN   \n",
       "9883      0.0480            NaN       NaN          NaN         NaN   \n",
       "9884      0.0300            NaN       NaN          NaN         NaN   \n",
       "\n",
       "      int at 460  int at 500  FI (450/500) docm comments  \n",
       "0          87.86       52.34      1.766336           NaN  \n",
       "1          45.52       27.28      1.767962           NaN  \n",
       "2          48.71       29.00      1.771724           NaN  \n",
       "3          44.38       26.25      1.810286           NaN  \n",
       "4          58.61       34.44      1.818235           NaN  \n",
       "...          ...         ...           ...           ...  \n",
       "9880         NaN         NaN           NaN           NaN  \n",
       "9881         NaN         NaN           NaN           NaN  \n",
       "9882         NaN         NaN           NaN           NaN  \n",
       "9883         NaN         NaN           NaN           NaN  \n",
       "9884         NaN         NaN           NaN           NaN  \n",
       "\n",
       "[9885 rows x 17 columns]"
      ]
     },
     "execution_count": 3,
     "metadata": {},
     "output_type": "execute_result"
    }
   ],
   "source": [
    "carbon_df"
   ]
  },
  {
   "cell_type": "code",
   "execution_count": 4,
   "metadata": {},
   "outputs": [
    {
     "data": {
      "text/plain": [
       "site number      9871\n",
       "site location    9867\n",
       "Cluster          8691\n",
       "site acronym     9765\n",
       "date             9885\n",
       "sample type        78\n",
       "TOC (mg/L)        946\n",
       "DOC (mg/L)       7161\n",
       "UVA (cm-1)       7286\n",
       "suva (L/mg-m)    7217\n",
       "peak int          743\n",
       "peak int WL       743\n",
       "int at 450        743\n",
       "int at 460        743\n",
       "int at 500        744\n",
       "FI (450/500)      744\n",
       "docm comments      21\n",
       "dtype: int64"
      ]
     },
     "execution_count": 4,
     "metadata": {},
     "output_type": "execute_result"
    }
   ],
   "source": [
    "carbon_df.count()"
   ]
  },
  {
   "cell_type": "code",
   "execution_count": 5,
   "metadata": {},
   "outputs": [],
   "source": [
    "carbon_cleanup = carbon_df [[\"site number\", \"site location\", \"Cluster\", \"date\", \"TOC (mg/L)\", \"DOC (mg/L)\", \"UVA (cm-1)\", \"suva (L/mg-m)\"]]\n",
    "carbon_cleanup = carbon_cleanup.dropna()"
   ]
  },
  {
   "cell_type": "code",
   "execution_count": 6,
   "metadata": {},
   "outputs": [
    {
     "data": {
      "text/plain": [
       "site number      894\n",
       "site location    894\n",
       "Cluster          894\n",
       "date             894\n",
       "TOC (mg/L)       894\n",
       "DOC (mg/L)       894\n",
       "UVA (cm-1)       894\n",
       "suva (L/mg-m)    894\n",
       "dtype: int64"
      ]
     },
     "execution_count": 6,
     "metadata": {},
     "output_type": "execute_result"
    }
   ],
   "source": [
    "carbon_cleanup.count()"
   ]
  },
  {
   "cell_type": "code",
   "execution_count": 7,
   "metadata": {},
   "outputs": [
    {
     "data": {
      "text/html": [
       "<div>\n",
       "<style scoped>\n",
       "    .dataframe tbody tr th:only-of-type {\n",
       "        vertical-align: middle;\n",
       "    }\n",
       "\n",
       "    .dataframe tbody tr th {\n",
       "        vertical-align: top;\n",
       "    }\n",
       "\n",
       "    .dataframe thead th {\n",
       "        text-align: right;\n",
       "    }\n",
       "</style>\n",
       "<table border=\"1\" class=\"dataframe\">\n",
       "  <thead>\n",
       "    <tr style=\"text-align: right;\">\n",
       "      <th></th>\n",
       "      <th>site number</th>\n",
       "      <th>site location</th>\n",
       "      <th>Cluster</th>\n",
       "      <th>date</th>\n",
       "      <th>TOC (mg/L)</th>\n",
       "      <th>DOC (mg/L)</th>\n",
       "      <th>UVA (cm-1)</th>\n",
       "      <th>suva (L/mg-m)</th>\n",
       "    </tr>\n",
       "  </thead>\n",
       "  <tbody>\n",
       "    <tr>\n",
       "      <td>0</td>\n",
       "      <td>R5</td>\n",
       "      <td>Verde River btwn Horseshoe and Bartlett</td>\n",
       "      <td>verde</td>\n",
       "      <td>1999</td>\n",
       "      <td>2.750</td>\n",
       "      <td>2.777</td>\n",
       "      <td>0.0793</td>\n",
       "      <td>0.028556</td>\n",
       "    </tr>\n",
       "    <tr>\n",
       "      <td>1</td>\n",
       "      <td>R6A</td>\n",
       "      <td>Bartlett Reservoir near outlet</td>\n",
       "      <td>verde</td>\n",
       "      <td>1999</td>\n",
       "      <td>1.934</td>\n",
       "      <td>1.845</td>\n",
       "      <td>0.0406</td>\n",
       "      <td>0.022005</td>\n",
       "    </tr>\n",
       "    <tr>\n",
       "      <td>2</td>\n",
       "      <td>R6B</td>\n",
       "      <td>Bartlett Reservoir near outlet</td>\n",
       "      <td>verde</td>\n",
       "      <td>1999</td>\n",
       "      <td>1.735</td>\n",
       "      <td>1.614</td>\n",
       "      <td>0.0412</td>\n",
       "      <td>0.025527</td>\n",
       "    </tr>\n",
       "    <tr>\n",
       "      <td>3</td>\n",
       "      <td>R7</td>\n",
       "      <td>Verde River below Bartlett Reservoir</td>\n",
       "      <td>verde</td>\n",
       "      <td>1999</td>\n",
       "      <td>1.775</td>\n",
       "      <td>1.626</td>\n",
       "      <td>0.0373</td>\n",
       "      <td>0.022940</td>\n",
       "    </tr>\n",
       "    <tr>\n",
       "      <td>4</td>\n",
       "      <td>R10</td>\n",
       "      <td>Salt River below Saguaro (Blue Point Bridge)</td>\n",
       "      <td>salt</td>\n",
       "      <td>1999</td>\n",
       "      <td>2.943</td>\n",
       "      <td>2.711</td>\n",
       "      <td>0.0549</td>\n",
       "      <td>0.020251</td>\n",
       "    </tr>\n",
       "    <tr>\n",
       "      <td>...</td>\n",
       "      <td>...</td>\n",
       "      <td>...</td>\n",
       "      <td>...</td>\n",
       "      <td>...</td>\n",
       "      <td>...</td>\n",
       "      <td>...</td>\n",
       "      <td>...</td>\n",
       "      <td>...</td>\n",
       "    </tr>\n",
       "    <tr>\n",
       "      <td>2983</td>\n",
       "      <td>R9B</td>\n",
       "      <td>Saguaro Lake near inlet</td>\n",
       "      <td>salt</td>\n",
       "      <td>2004</td>\n",
       "      <td>4.073</td>\n",
       "      <td>4.080</td>\n",
       "      <td>0.0668</td>\n",
       "      <td>1.600000</td>\n",
       "    </tr>\n",
       "    <tr>\n",
       "      <td>3021</td>\n",
       "      <td>R6A</td>\n",
       "      <td>Bartlett Reservoir near outlet</td>\n",
       "      <td>verde</td>\n",
       "      <td>2004</td>\n",
       "      <td>2.993</td>\n",
       "      <td>2.780</td>\n",
       "      <td>0.0484</td>\n",
       "      <td>1.700000</td>\n",
       "    </tr>\n",
       "    <tr>\n",
       "      <td>3022</td>\n",
       "      <td>R6B</td>\n",
       "      <td>Bartlett Reservoir near outlet</td>\n",
       "      <td>verde</td>\n",
       "      <td>2004</td>\n",
       "      <td>2.862</td>\n",
       "      <td>2.730</td>\n",
       "      <td>0.0506</td>\n",
       "      <td>1.900000</td>\n",
       "    </tr>\n",
       "    <tr>\n",
       "      <td>3025</td>\n",
       "      <td>R9A</td>\n",
       "      <td>Saguaro Lake near inlet</td>\n",
       "      <td>salt</td>\n",
       "      <td>2004</td>\n",
       "      <td>5.045</td>\n",
       "      <td>4.730</td>\n",
       "      <td>0.0694</td>\n",
       "      <td>1.500000</td>\n",
       "    </tr>\n",
       "    <tr>\n",
       "      <td>3027</td>\n",
       "      <td>R9B</td>\n",
       "      <td>Saguaro Lake near inlet</td>\n",
       "      <td>salt</td>\n",
       "      <td>2004</td>\n",
       "      <td>4.333</td>\n",
       "      <td>4.060</td>\n",
       "      <td>0.0669</td>\n",
       "      <td>1.600000</td>\n",
       "    </tr>\n",
       "  </tbody>\n",
       "</table>\n",
       "<p>894 rows × 8 columns</p>\n",
       "</div>"
      ],
      "text/plain": [
       "     site number                                 site location Cluster  date  \\\n",
       "0             R5       Verde River btwn Horseshoe and Bartlett   verde  1999   \n",
       "1            R6A                Bartlett Reservoir near outlet   verde  1999   \n",
       "2            R6B                Bartlett Reservoir near outlet   verde  1999   \n",
       "3             R7          Verde River below Bartlett Reservoir   verde  1999   \n",
       "4            R10  Salt River below Saguaro (Blue Point Bridge)    salt  1999   \n",
       "...          ...                                           ...     ...   ...   \n",
       "2983         R9B                       Saguaro Lake near inlet    salt  2004   \n",
       "3021         R6A                Bartlett Reservoir near outlet   verde  2004   \n",
       "3022         R6B                Bartlett Reservoir near outlet   verde  2004   \n",
       "3025         R9A                       Saguaro Lake near inlet    salt  2004   \n",
       "3027         R9B                       Saguaro Lake near inlet    salt  2004   \n",
       "\n",
       "      TOC (mg/L)  DOC (mg/L)  UVA (cm-1)  suva (L/mg-m)  \n",
       "0          2.750       2.777      0.0793       0.028556  \n",
       "1          1.934       1.845      0.0406       0.022005  \n",
       "2          1.735       1.614      0.0412       0.025527  \n",
       "3          1.775       1.626      0.0373       0.022940  \n",
       "4          2.943       2.711      0.0549       0.020251  \n",
       "...          ...         ...         ...            ...  \n",
       "2983       4.073       4.080      0.0668       1.600000  \n",
       "3021       2.993       2.780      0.0484       1.700000  \n",
       "3022       2.862       2.730      0.0506       1.900000  \n",
       "3025       5.045       4.730      0.0694       1.500000  \n",
       "3027       4.333       4.060      0.0669       1.600000  \n",
       "\n",
       "[894 rows x 8 columns]"
      ]
     },
     "execution_count": 7,
     "metadata": {},
     "output_type": "execute_result"
    }
   ],
   "source": [
    "carbon_cleanup"
   ]
  },
  {
   "cell_type": "code",
   "execution_count": 8,
   "metadata": {},
   "outputs": [],
   "source": [
    "carbon_x = carbon_cleanup['date'];\n",
    "carbon_y = carbon_cleanup['TOC (mg/L)']"
   ]
  },
  {
   "cell_type": "code",
   "execution_count": 9,
   "metadata": {},
   "outputs": [
    {
     "data": {
      "text/plain": [
       "<matplotlib.collections.PathCollection at 0x105d6da90>"
      ]
     },
     "execution_count": 9,
     "metadata": {},
     "output_type": "execute_result"
    },
    {
     "data": {
      "image/png": "[encoded data removed]",
      "text/plain": [
       "<Figure size 432x288 with 1 Axes>"
      ]
     },
     "metadata": {
      "needs_background": "light"
     },
     "output_type": "display_data"
    }
   ],
   "source": [
    "plt.xlabel('Year');\n",
    "plt.ylabel('TOC (ml/L)')\n",
    "\n",
    "plt.scatter (carbon_x,carbon_y)"
   ]
  },
  {
   "cell_type": "code",
   "execution_count": 10,
   "metadata": {},
   "outputs": [],
   "source": [
    "doc_x = carbon_cleanup['date'];\n",
    "doc_y = carbon_cleanup['DOC (mg/L)']"
   ]
  },
  {
   "cell_type": "code",
   "execution_count": 11,
   "metadata": {},
   "outputs": [
    {
     "data": {
      "text/plain": [
       "<matplotlib.collections.PathCollection at 0x117cb7b90>"
      ]
     },
     "execution_count": 11,
     "metadata": {},
     "output_type": "execute_result"
    },
    {
     "data": {
      "image/png": "[encoded data removed]",
      "text/plain": [
       "<Figure size 432x288 with 1 Axes>"
      ]
     },
     "metadata": {
      "needs_background": "light"
     },
     "output_type": "display_data"
    }
   ],
   "source": [
    "plt.xlabel('Year');\n",
    "plt.ylabel('DOC (ml/L)')\n",
    "\n",
    "plt.scatter (doc_x,doc_y)"
   ]
  },
  {
   "cell_type": "code",
   "execution_count": 12,
   "metadata": {},
   "outputs": [],
   "source": [
    "uva_x = carbon_cleanup['date'];\n",
    "uva_y = carbon_cleanup['UVA (cm-1)']"
   ]
  },
  {
   "cell_type": "code",
   "execution_count": 13,
   "metadata": {},
   "outputs": [
    {
     "data": {
      "text/plain": [
       "<matplotlib.collections.PathCollection at 0x117dd22d0>"
      ]
     },
     "execution_count": 13,
     "metadata": {},
     "output_type": "execute_result"
    },
    {
     "data": {
      "image/png": "[encoded data removed]",
      "text/plain": [
       "<Figure size 432x288 with 1 Axes>"
      ]
     },
     "metadata": {
      "needs_background": "light"
     },
     "output_type": "display_data"
    }
   ],
   "source": [
    "plt.xlabel('Year');\n",
    "plt.ylabel('UVA (cm-1)')\n",
    "\n",
    "plt.scatter (uva_x,uva_y)"
   ]
  },
  {
   "cell_type": "code",
   "execution_count": 14,
   "metadata": {},
   "outputs": [],
   "source": [
    "suva_x = carbon_cleanup['date'];\n",
    "suva_y = carbon_cleanup['suva (L/mg-m)']"
   ]
  },
  {
   "cell_type": "code",
   "execution_count": 15,
   "metadata": {},
   "outputs": [
    {
     "data": {
      "text/plain": [
       "<matplotlib.collections.PathCollection at 0x117f86d90>"
      ]
     },
     "execution_count": 15,
     "metadata": {},
     "output_type": "execute_result"
    },
    {
     "data": {
      "image/png": "[encoded data removed]",
      "text/plain": [
       "<Figure size 432x288 with 1 Axes>"
      ]
     },
     "metadata": {
      "needs_background": "light"
     },
     "output_type": "display_data"
    }
   ],
   "source": [
    "plt.xlabel('Year')\n",
    "plt.ylabel('SUVA (L/mg-m)')\n",
    "\n",
    "plt.scatter (suva_x, suva_y)"
   ]
  },
  {
   "cell_type": "code",
   "execution_count": 16,
   "metadata": {},
   "outputs": [
    {
     "data": {
      "text/html": [
       "<div>\n",
       "<style scoped>\n",
       "    .dataframe tbody tr th:only-of-type {\n",
       "        vertical-align: middle;\n",
       "    }\n",
       "\n",
       "    .dataframe tbody tr th {\n",
       "        vertical-align: top;\n",
       "    }\n",
       "\n",
       "    .dataframe thead th {\n",
       "        text-align: right;\n",
       "    }\n",
       "</style>\n",
       "<table border=\"1\" class=\"dataframe\">\n",
       "  <thead>\n",
       "    <tr style=\"text-align: right;\">\n",
       "      <th></th>\n",
       "      <th>site number</th>\n",
       "      <th>site location</th>\n",
       "      <th>Cluster</th>\n",
       "      <th>site acronym</th>\n",
       "      <th>date</th>\n",
       "      <th>sample type</th>\n",
       "      <th>TOC (mg/L)</th>\n",
       "      <th>DOC (mg/L)</th>\n",
       "      <th>UVA (cm-1)</th>\n",
       "      <th>suva (L/mg-m)</th>\n",
       "      <th>peak int</th>\n",
       "      <th>peak int WL</th>\n",
       "      <th>int at 450</th>\n",
       "      <th>int at 460</th>\n",
       "      <th>int at 500</th>\n",
       "      <th>FI (450/500)</th>\n",
       "      <th>docm comments</th>\n",
       "    </tr>\n",
       "  </thead>\n",
       "  <tbody>\n",
       "    <tr>\n",
       "      <td>0</td>\n",
       "      <td>R5</td>\n",
       "      <td>Verde River btwn Horseshoe and Bartlett</td>\n",
       "      <td>verde</td>\n",
       "      <td>verde abv bartlett</td>\n",
       "      <td>1999</td>\n",
       "      <td>NaN</td>\n",
       "      <td>2.750</td>\n",
       "      <td>2.777</td>\n",
       "      <td>0.0793</td>\n",
       "      <td>0.028556</td>\n",
       "      <td>92.67</td>\n",
       "      <td>446.36</td>\n",
       "      <td>92.45</td>\n",
       "      <td>87.86</td>\n",
       "      <td>52.34</td>\n",
       "      <td>1.766336</td>\n",
       "      <td>NaN</td>\n",
       "    </tr>\n",
       "    <tr>\n",
       "      <td>1</td>\n",
       "      <td>R6A</td>\n",
       "      <td>Bartlett Reservoir near outlet</td>\n",
       "      <td>verde</td>\n",
       "      <td>bartlett-epi</td>\n",
       "      <td>1999</td>\n",
       "      <td>NaN</td>\n",
       "      <td>1.934</td>\n",
       "      <td>1.845</td>\n",
       "      <td>0.0406</td>\n",
       "      <td>0.022005</td>\n",
       "      <td>48.65</td>\n",
       "      <td>448.62</td>\n",
       "      <td>48.23</td>\n",
       "      <td>45.52</td>\n",
       "      <td>27.28</td>\n",
       "      <td>1.767962</td>\n",
       "      <td>NaN</td>\n",
       "    </tr>\n",
       "    <tr>\n",
       "      <td>2</td>\n",
       "      <td>R6B</td>\n",
       "      <td>Bartlett Reservoir near outlet</td>\n",
       "      <td>verde</td>\n",
       "      <td>bartlett-hypo</td>\n",
       "      <td>1999</td>\n",
       "      <td>NaN</td>\n",
       "      <td>1.735</td>\n",
       "      <td>1.614</td>\n",
       "      <td>0.0412</td>\n",
       "      <td>0.025527</td>\n",
       "      <td>51.89</td>\n",
       "      <td>448.74</td>\n",
       "      <td>51.38</td>\n",
       "      <td>48.71</td>\n",
       "      <td>29.00</td>\n",
       "      <td>1.771724</td>\n",
       "      <td>NaN</td>\n",
       "    </tr>\n",
       "    <tr>\n",
       "      <td>3</td>\n",
       "      <td>R7</td>\n",
       "      <td>Verde River below Bartlett Reservoir</td>\n",
       "      <td>verde</td>\n",
       "      <td>verde blw barlett</td>\n",
       "      <td>1999</td>\n",
       "      <td>NaN</td>\n",
       "      <td>1.775</td>\n",
       "      <td>1.626</td>\n",
       "      <td>0.0373</td>\n",
       "      <td>0.022940</td>\n",
       "      <td>47.95</td>\n",
       "      <td>447.02</td>\n",
       "      <td>47.52</td>\n",
       "      <td>44.38</td>\n",
       "      <td>26.25</td>\n",
       "      <td>1.810286</td>\n",
       "      <td>NaN</td>\n",
       "    </tr>\n",
       "    <tr>\n",
       "      <td>4</td>\n",
       "      <td>R10</td>\n",
       "      <td>Salt River below Saguaro (Blue Point Bridge)</td>\n",
       "      <td>salt</td>\n",
       "      <td>salt blw saguaro</td>\n",
       "      <td>1999</td>\n",
       "      <td>NaN</td>\n",
       "      <td>2.943</td>\n",
       "      <td>2.711</td>\n",
       "      <td>0.0549</td>\n",
       "      <td>0.020251</td>\n",
       "      <td>62.98</td>\n",
       "      <td>446.30</td>\n",
       "      <td>62.62</td>\n",
       "      <td>58.61</td>\n",
       "      <td>34.44</td>\n",
       "      <td>1.818235</td>\n",
       "      <td>NaN</td>\n",
       "    </tr>\n",
       "    <tr>\n",
       "      <td>...</td>\n",
       "      <td>...</td>\n",
       "      <td>...</td>\n",
       "      <td>...</td>\n",
       "      <td>...</td>\n",
       "      <td>...</td>\n",
       "      <td>...</td>\n",
       "      <td>...</td>\n",
       "      <td>...</td>\n",
       "      <td>...</td>\n",
       "      <td>...</td>\n",
       "      <td>...</td>\n",
       "      <td>...</td>\n",
       "      <td>...</td>\n",
       "      <td>...</td>\n",
       "      <td>...</td>\n",
       "      <td>...</td>\n",
       "      <td>...</td>\n",
       "    </tr>\n",
       "    <tr>\n",
       "      <td>9880</td>\n",
       "      <td>SPT OUT</td>\n",
       "      <td>Tempe's South Plant treated water</td>\n",
       "      <td>tempe</td>\n",
       "      <td>STP Out</td>\n",
       "      <td>2016</td>\n",
       "      <td>NaN</td>\n",
       "      <td>NaN</td>\n",
       "      <td>NaN</td>\n",
       "      <td>NaN</td>\n",
       "      <td>NaN</td>\n",
       "      <td>NaN</td>\n",
       "      <td>NaN</td>\n",
       "      <td>NaN</td>\n",
       "      <td>NaN</td>\n",
       "      <td>NaN</td>\n",
       "      <td>NaN</td>\n",
       "      <td>NaN</td>\n",
       "    </tr>\n",
       "    <tr>\n",
       "      <td>9881</td>\n",
       "      <td>SRNR</td>\n",
       "      <td>Salt River near Roosevelt</td>\n",
       "      <td>salt</td>\n",
       "      <td>SRNR</td>\n",
       "      <td>2016</td>\n",
       "      <td>NaN</td>\n",
       "      <td>NaN</td>\n",
       "      <td>NaN</td>\n",
       "      <td>NaN</td>\n",
       "      <td>NaN</td>\n",
       "      <td>NaN</td>\n",
       "      <td>NaN</td>\n",
       "      <td>NaN</td>\n",
       "      <td>NaN</td>\n",
       "      <td>NaN</td>\n",
       "      <td>NaN</td>\n",
       "      <td>NaN</td>\n",
       "    </tr>\n",
       "    <tr>\n",
       "      <td>9882</td>\n",
       "      <td>UH IN</td>\n",
       "      <td>Union Hills Inlet</td>\n",
       "      <td>cap</td>\n",
       "      <td>Union Hills Inlet</td>\n",
       "      <td>2016</td>\n",
       "      <td>NaN</td>\n",
       "      <td>NaN</td>\n",
       "      <td>NaN</td>\n",
       "      <td>0.0480</td>\n",
       "      <td>NaN</td>\n",
       "      <td>NaN</td>\n",
       "      <td>NaN</td>\n",
       "      <td>NaN</td>\n",
       "      <td>NaN</td>\n",
       "      <td>NaN</td>\n",
       "      <td>NaN</td>\n",
       "      <td>NaN</td>\n",
       "    </tr>\n",
       "    <tr>\n",
       "      <td>9883</td>\n",
       "      <td>UH IN</td>\n",
       "      <td>Union Hills Inlet</td>\n",
       "      <td>cap</td>\n",
       "      <td>Union Hills Inlet</td>\n",
       "      <td>2016</td>\n",
       "      <td>NaN</td>\n",
       "      <td>NaN</td>\n",
       "      <td>NaN</td>\n",
       "      <td>0.0480</td>\n",
       "      <td>NaN</td>\n",
       "      <td>NaN</td>\n",
       "      <td>NaN</td>\n",
       "      <td>NaN</td>\n",
       "      <td>NaN</td>\n",
       "      <td>NaN</td>\n",
       "      <td>NaN</td>\n",
       "      <td>NaN</td>\n",
       "    </tr>\n",
       "    <tr>\n",
       "      <td>9884</td>\n",
       "      <td>UH OUT</td>\n",
       "      <td>Union Hills Treated Water</td>\n",
       "      <td>cap</td>\n",
       "      <td>Union Hills Outlet</td>\n",
       "      <td>2016</td>\n",
       "      <td>NaN</td>\n",
       "      <td>NaN</td>\n",
       "      <td>NaN</td>\n",
       "      <td>0.0300</td>\n",
       "      <td>NaN</td>\n",
       "      <td>NaN</td>\n",
       "      <td>NaN</td>\n",
       "      <td>NaN</td>\n",
       "      <td>NaN</td>\n",
       "      <td>NaN</td>\n",
       "      <td>NaN</td>\n",
       "      <td>NaN</td>\n",
       "    </tr>\n",
       "  </tbody>\n",
       "</table>\n",
       "<p>9885 rows × 17 columns</p>\n",
       "</div>"
      ],
      "text/plain": [
       "     site number                                 site location Cluster  \\\n",
       "0             R5       Verde River btwn Horseshoe and Bartlett   verde   \n",
       "1            R6A                Bartlett Reservoir near outlet   verde   \n",
       "2            R6B                Bartlett Reservoir near outlet   verde   \n",
       "3             R7          Verde River below Bartlett Reservoir   verde   \n",
       "4            R10  Salt River below Saguaro (Blue Point Bridge)    salt   \n",
       "...          ...                                           ...     ...   \n",
       "9880     SPT OUT             Tempe's South Plant treated water   tempe   \n",
       "9881        SRNR                     Salt River near Roosevelt    salt   \n",
       "9882       UH IN                             Union Hills Inlet     cap   \n",
       "9883       UH IN                             Union Hills Inlet     cap   \n",
       "9884      UH OUT                     Union Hills Treated Water     cap   \n",
       "\n",
       "            site acronym  date sample type  TOC (mg/L)  DOC (mg/L)  \\\n",
       "0     verde abv bartlett  1999         NaN       2.750       2.777   \n",
       "1           bartlett-epi  1999         NaN       1.934       1.845   \n",
       "2          bartlett-hypo  1999         NaN       1.735       1.614   \n",
       "3      verde blw barlett  1999         NaN       1.775       1.626   \n",
       "4       salt blw saguaro  1999         NaN       2.943       2.711   \n",
       "...                  ...   ...         ...         ...         ...   \n",
       "9880             STP Out  2016         NaN         NaN         NaN   \n",
       "9881                SRNR  2016         NaN         NaN         NaN   \n",
       "9882   Union Hills Inlet  2016         NaN         NaN         NaN   \n",
       "9883   Union Hills Inlet  2016         NaN         NaN         NaN   \n",
       "9884  Union Hills Outlet  2016         NaN         NaN         NaN   \n",
       "\n",
       "      UVA (cm-1)  suva (L/mg-m)  peak int  peak int WL  int at 450  \\\n",
       "0         0.0793       0.028556     92.67       446.36       92.45   \n",
       "1         0.0406       0.022005     48.65       448.62       48.23   \n",
       "2         0.0412       0.025527     51.89       448.74       51.38   \n",
       "3         0.0373       0.022940     47.95       447.02       47.52   \n",
       "4         0.0549       0.020251     62.98       446.30       62.62   \n",
       "...          ...            ...       ...          ...         ...   \n",
       "9880         NaN            NaN       NaN          NaN         NaN   \n",
       "9881         NaN            NaN       NaN          NaN         NaN   \n",
       "9882      0.0480            NaN       NaN          NaN         NaN   \n",
       "9883      0.0480            NaN       NaN          NaN         NaN   \n",
       "9884      0.0300            NaN       NaN          NaN         NaN   \n",
       "\n",
       "      int at 460  int at 500  FI (450/500) docm comments  \n",
       "0          87.86       52.34      1.766336           NaN  \n",
       "1          45.52       27.28      1.767962           NaN  \n",
       "2          48.71       29.00      1.771724           NaN  \n",
       "3          44.38       26.25      1.810286           NaN  \n",
       "4          58.61       34.44      1.818235           NaN  \n",
       "...          ...         ...           ...           ...  \n",
       "9880         NaN         NaN           NaN           NaN  \n",
       "9881         NaN         NaN           NaN           NaN  \n",
       "9882         NaN         NaN           NaN           NaN  \n",
       "9883         NaN         NaN           NaN           NaN  \n",
       "9884         NaN         NaN           NaN           NaN  \n",
       "\n",
       "[9885 rows x 17 columns]"
      ]
     },
     "execution_count": 16,
     "metadata": {},
     "output_type": "execute_result"
    }
   ],
   "source": [
    "carbon_df"
   ]
  },
  {
   "cell_type": "code",
   "execution_count": 17,
   "metadata": {},
   "outputs": [],
   "source": [
    "second_cleanup = carbon_df [[\"site number\", \"site location\", \"Cluster\", \"date\", \"DOC (mg/L)\", \"UVA (cm-1)\", \"suva (L/mg-m)\"]]\n",
    "second_cleanup = second_cleanup.dropna()"
   ]
  },
  {
   "cell_type": "code",
   "execution_count": 18,
   "metadata": {},
   "outputs": [
    {
     "data": {
      "text/plain": [
       "site number      6317\n",
       "site location    6317\n",
       "Cluster          6317\n",
       "date             6317\n",
       "DOC (mg/L)       6317\n",
       "UVA (cm-1)       6317\n",
       "suva (L/mg-m)    6317\n",
       "dtype: int64"
      ]
     },
     "execution_count": 18,
     "metadata": {},
     "output_type": "execute_result"
    }
   ],
   "source": [
    "second_cleanup.count()"
   ]
  },
  {
   "cell_type": "code",
   "execution_count": 19,
   "metadata": {},
   "outputs": [],
   "source": [
    "doc_x = second_cleanup['date'];\n",
    "doc_y = second_cleanup['DOC (mg/L)']"
   ]
  },
  {
   "cell_type": "code",
   "execution_count": 20,
   "metadata": {},
   "outputs": [
    {
     "data": {
      "text/plain": [
       "<matplotlib.collections.PathCollection at 0x1180c4890>"
      ]
     },
     "execution_count": 20,
     "metadata": {},
     "output_type": "execute_result"
    },
    {
     "data": {
      "image/png": "[encoded data removed]",
      "text/plain": [
       "<Figure size 432x288 with 1 Axes>"
      ]
     },
     "metadata": {
      "needs_background": "light"
     },
     "output_type": "display_data"
    }
   ],
   "source": [
    "plt.xlabel('Year');\n",
    "plt.ylabel('DOC (ml/L)')\n",
    "\n",
    "plt.scatter (doc_x,doc_y)"
   ]
  },
  {
   "cell_type": "code",
   "execution_count": 21,
   "metadata": {},
   "outputs": [],
   "source": [
    "uva_x = second_cleanup['date'];\n",
    "uva_y = second_cleanup['UVA (cm-1)']"
   ]
  },
  {
   "cell_type": "code",
   "execution_count": 22,
   "metadata": {},
   "outputs": [
    {
     "data": {
      "text/plain": [
       "<matplotlib.collections.PathCollection at 0x117ef56d0>"
      ]
     },
     "execution_count": 22,
     "metadata": {},
     "output_type": "execute_result"
    },
    {
     "data": {
      "image/png": "[encoded data removed]",
      "text/plain": [
       "<Figure size 432x288 with 1 Axes>"
      ]
     },
     "metadata": {
      "needs_background": "light"
     },
     "output_type": "display_data"
    }
   ],
   "source": [
    "plt.xlabel('Year');\n",
    "plt.ylabel('UVA (cm-1)')\n",
    "\n",
    "plt.scatter (uva_x,uva_y)"
   ]
  },
  {
   "cell_type": "code",
   "execution_count": 23,
   "metadata": {},
   "outputs": [],
   "source": [
    "suva_x = second_cleanup['date'];\n",
    "suva_y = second_cleanup['suva (L/mg-m)']"
   ]
  },
  {
   "cell_type": "code",
   "execution_count": 24,
   "metadata": {},
   "outputs": [
    {
     "data": {
      "text/plain": [
       "<matplotlib.collections.PathCollection at 0x118229890>"
      ]
     },
     "execution_count": 24,
     "metadata": {},
     "output_type": "execute_result"
    },
    {
     "data": {
      "image/png": "[encoded data removed]",
      "text/plain": [
       "<Figure size 432x288 with 1 Axes>"
      ]
     },
     "metadata": {
      "needs_background": "light"
     },
     "output_type": "display_data"
    }
   ],
   "source": [
    "plt.xlabel('Year')\n",
    "plt.ylabel('SUVA (L/mg-m)')\n",
    "\n",
    "plt.scatter (suva_x, suva_y)"
   ]
  },
  {
   "cell_type": "code",
   "execution_count": null,
   "metadata": {},
   "outputs": [],
   "source": []
  }
 ],
 "metadata": {
  "kernelspec": {
   "display_name": "Python 3",
   "language": "python",
   "name": "python3"
  },
  "language_info": {
   "codemirror_mode": {
    "name": "ipython",
    "version": 3
   },
   "file_extension": ".py",
   "mimetype": "text/x-python",
   "name": "python",
   "nbconvert_exporter": "python",
   "pygments_lexer": "ipython3",
   "version": "3.7.4"
  }
 },
 "nbformat": 4,
 "nbformat_minor": 2
}
